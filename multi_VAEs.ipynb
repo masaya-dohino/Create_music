{
  "nbformat": 4,
  "nbformat_minor": 0,
  "metadata": {
    "colab": {
      "name": "multi-VAEs.ipynb",
      "provenance": [],
      "collapsed_sections": []
    },
    "kernelspec": {
      "name": "python3",
      "display_name": "Python 3"
    },
    "accelerator": "GPU"
  },
  "cells": [
    {
      "cell_type": "markdown",
      "metadata": {
        "id": "5QtnCO6IPnKX",
        "colab_type": "text"
      },
      "source": [
        ""
      ]
    },
    {
      "cell_type": "code",
      "metadata": {
        "id": "UM2xxXKFsIvj",
        "colab_type": "code",
        "colab": {
          "base_uri": "https://localhost:8080/",
          "height": 439
        },
        "outputId": "f6becae5-a6b9-41d2-aa80-4f9a760f9bbc"
      },
      "source": [
        "!pip install torch\n",
        "!pip install pypianoroll"
      ],
      "execution_count": 2,
      "outputs": [
        {
          "output_type": "stream",
          "text": [
            "Requirement already satisfied: torch in /usr/local/lib/python3.6/dist-packages (1.6.0+cu101)\n",
            "Requirement already satisfied: future in /usr/local/lib/python3.6/dist-packages (from torch) (0.16.0)\n",
            "Requirement already satisfied: numpy in /usr/local/lib/python3.6/dist-packages (from torch) (1.18.5)\n",
            "Collecting pypianoroll\n",
            "  Downloading https://files.pythonhosted.org/packages/17/93/cca689c3e7f217a4a1906f6b96e81c4d57d423ff6778dcc7af3bad11c638/pypianoroll-0.5.3.tar.gz\n",
            "Requirement already satisfied: six<2.0,>=1.0.0 in /usr/local/lib/python3.6/dist-packages (from pypianoroll) (1.15.0)\n",
            "Requirement already satisfied: numpy<2.0,>=1.10.0 in /usr/local/lib/python3.6/dist-packages (from pypianoroll) (1.18.5)\n",
            "Requirement already satisfied: scipy<2.0,>=1.0.0 in /usr/local/lib/python3.6/dist-packages (from pypianoroll) (1.4.1)\n",
            "Collecting pretty_midi<1.0,>=0.2.8\n",
            "\u001b[?25l  Downloading https://files.pythonhosted.org/packages/bc/8e/63c6e39a7a64623a9cd6aec530070c70827f6f8f40deec938f323d7b1e15/pretty_midi-0.2.9.tar.gz (5.6MB)\n",
            "\u001b[K     |████████████████████████████████| 5.6MB 5.5MB/s \n",
            "\u001b[?25hCollecting mido>=1.1.16\n",
            "\u001b[?25l  Downloading https://files.pythonhosted.org/packages/20/0a/81beb587b1ae832ea6a1901dc7c6faa380e8dd154e0a862f0a9f3d2afab9/mido-1.2.9-py2.py3-none-any.whl (52kB)\n",
            "\u001b[K     |████████████████████████████████| 61kB 9.6MB/s \n",
            "\u001b[?25hBuilding wheels for collected packages: pypianoroll, pretty-midi\n",
            "  Building wheel for pypianoroll (setup.py) ... \u001b[?25l\u001b[?25hdone\n",
            "  Created wheel for pypianoroll: filename=pypianoroll-0.5.3-cp36-none-any.whl size=23827 sha256=8fd895abe19b39d0ee2100230ccbec421063f89e8dace36d3d0790c57983541e\n",
            "  Stored in directory: /root/.cache/pip/wheels/29/c8/c0/7b240ab723c2f96b03391796bdf278de513eabf1dfb989c07f\n",
            "  Building wheel for pretty-midi (setup.py) ... \u001b[?25l\u001b[?25hdone\n",
            "  Created wheel for pretty-midi: filename=pretty_midi-0.2.9-cp36-none-any.whl size=5591953 sha256=c9bd14118b4511e7d59fd39dcd2bcb6a445336ade0723f13d83f2f4a50716295\n",
            "  Stored in directory: /root/.cache/pip/wheels/4c/a1/c6/b5697841db1112c6e5866d75a6b6bf1bef73b874782556ba66\n",
            "Successfully built pypianoroll pretty-midi\n",
            "Installing collected packages: mido, pretty-midi, pypianoroll\n",
            "Successfully installed mido-1.2.9 pretty-midi-0.2.9 pypianoroll-0.5.3\n"
          ],
          "name": "stdout"
        }
      ]
    },
    {
      "cell_type": "code",
      "metadata": {
        "id": "w6syeshosdEp",
        "colab_type": "code",
        "colab": {
          "base_uri": "https://localhost:8080/",
          "height": 52
        },
        "outputId": "7068c7e6-0a18-40b0-8019-da50c227c040"
      },
      "source": [
        "import torch\n",
        "import torch.nn as nn\n",
        "\n",
        "import seaborn as sns\n",
        "import pandas as pd\n",
        "import numpy as np\n",
        "import matplotlib as mpl\n",
        "import matplotlib.pyplot as plt"
      ],
      "execution_count": 3,
      "outputs": [
        {
          "output_type": "stream",
          "text": [
            "/usr/local/lib/python3.6/dist-packages/statsmodels/tools/_testing.py:19: FutureWarning: pandas.util.testing is deprecated. Use the functions in the public API at pandas.testing instead.\n",
            "  import pandas.util.testing as tm\n"
          ],
          "name": "stderr"
        }
      ]
    },
    {
      "cell_type": "code",
      "metadata": {
        "id": "aaOSXXEZFYz_",
        "colab_type": "code",
        "colab": {
          "base_uri": "https://localhost:8080/",
          "height": 122
        },
        "outputId": "26570e5f-243b-4915-f5a4-ddda1990519d"
      },
      "source": [
        "!pip install pypianoroll"
      ],
      "execution_count": 4,
      "outputs": [
        {
          "output_type": "stream",
          "text": [
            "Requirement already satisfied: pypianoroll in /usr/local/lib/python3.6/dist-packages (0.5.3)\n",
            "Requirement already satisfied: scipy<2.0,>=1.0.0 in /usr/local/lib/python3.6/dist-packages (from pypianoroll) (1.4.1)\n",
            "Requirement already satisfied: pretty-midi<1.0,>=0.2.8 in /usr/local/lib/python3.6/dist-packages (from pypianoroll) (0.2.9)\n",
            "Requirement already satisfied: six<2.0,>=1.0.0 in /usr/local/lib/python3.6/dist-packages (from pypianoroll) (1.15.0)\n",
            "Requirement already satisfied: numpy<2.0,>=1.10.0 in /usr/local/lib/python3.6/dist-packages (from pypianoroll) (1.18.5)\n",
            "Requirement already satisfied: mido>=1.1.16 in /usr/local/lib/python3.6/dist-packages (from pretty-midi<1.0,>=0.2.8->pypianoroll) (1.2.9)\n"
          ],
          "name": "stdout"
        }
      ]
    },
    {
      "cell_type": "code",
      "metadata": {
        "id": "uomTDKUwFglw",
        "colab_type": "code",
        "colab": {
          "base_uri": "https://localhost:8080/",
          "height": 34
        },
        "outputId": "a5b2733b-e601-4475-b268-14beee7bf0c0"
      },
      "source": [
        "#データファイルのパス\n",
        "!cd drive/My\\ Drive"
      ],
      "execution_count": 5,
      "outputs": [
        {
          "output_type": "stream",
          "text": [
            "/bin/bash: line 0: cd: drive/My Drive: No such file or directory\n"
          ],
          "name": "stdout"
        }
      ]
    },
    {
      "cell_type": "code",
      "metadata": {
        "id": "QaQ0OFUFdDcB",
        "colab_type": "code",
        "colab": {
          "base_uri": "https://localhost:8080/",
          "height": 125
        },
        "outputId": "3b050ee8-ad25-45e7-8d0f-efa7e5a0a120"
      },
      "source": [
        "#Google Drive マウント\n",
        "from google.colab import drive\n",
        "drive.mount('/content/drive')"
      ],
      "execution_count": 6,
      "outputs": [
        {
          "output_type": "stream",
          "text": [
            "Go to this URL in a browser: https://accounts.google.com/o/oauth2/auth?client_id=947318989803-6bn6qk8qdgf4n4g3pfee6491hc0brc4i.apps.googleusercontent.com&redirect_uri=urn%3aietf%3awg%3aoauth%3a2.0%3aoob&response_type=code&scope=email%20https%3a%2f%2fwww.googleapis.com%2fauth%2fdocs.test%20https%3a%2f%2fwww.googleapis.com%2fauth%2fdrive%20https%3a%2f%2fwww.googleapis.com%2fauth%2fdrive.photos.readonly%20https%3a%2f%2fwww.googleapis.com%2fauth%2fpeopleapi.readonly\n",
            "\n",
            "Enter your authorization code:\n",
            "··········\n",
            "Mounted at /content/drive\n"
          ],
          "name": "stdout"
        }
      ]
    },
    {
      "cell_type": "code",
      "metadata": {
        "id": "lEAiKiyqH-24",
        "colab_type": "code",
        "colab": {
          "base_uri": "https://localhost:8080/",
          "height": 34
        },
        "outputId": "228269c1-5948-440a-a746-6a98bdea1190"
      },
      "source": [
        "#以下、入力データ\n",
        "filename = \"drive/My Drive/music/dataset/togetsukyo.mid\" # 曲：渡月橋　歌：倉木麻衣\n",
        "import pypianoroll\n",
        "pianoroll = pypianoroll.parse(filename, beat_resolution=24, name='unknown')\n",
        "import numpy as np\n",
        "a1 = pianoroll.get_merged_pianoroll()\n",
        "a1 = np.array(a1)\n",
        "time_length = 2832 #曲の再生時間：1分\n",
        "a1 = a1[:time_length, :]\n",
        "np.shape(a1)"
      ],
      "execution_count": 10,
      "outputs": [
        {
          "output_type": "execute_result",
          "data": {
            "text/plain": [
              "(2832, 128)"
            ]
          },
          "metadata": {
            "tags": []
          },
          "execution_count": 10
        }
      ]
    },
    {
      "cell_type": "code",
      "metadata": {
        "id": "8IepnhYuID7F",
        "colab_type": "code",
        "colab": {
          "base_uri": "https://localhost:8080/",
          "height": 34
        },
        "outputId": "831c63cc-133e-4365-d5bd-8b2650b9d979"
      },
      "source": [
        "filename = \"drive/My Drive/music/dataset/utautai.mid\"\n",
        "import pypianoroll\n",
        "pianoroll = pypianoroll.parse(filename, beat_resolution=24, name='unknown')\n",
        "import numpy as np\n",
        "a2 = pianoroll.get_merged_pianoroll()\n",
        "a2 = np.array(a2)\n",
        "a2 = a2[:time_length, :]\n",
        "np.shape(a2)"
      ],
      "execution_count": 11,
      "outputs": [
        {
          "output_type": "execute_result",
          "data": {
            "text/plain": [
              "(2832, 128)"
            ]
          },
          "metadata": {
            "tags": []
          },
          "execution_count": 11
        }
      ]
    },
    {
      "cell_type": "code",
      "metadata": {
        "id": "vLBaslbGNVt9",
        "colab_type": "code",
        "colab": {
          "base_uri": "https://localhost:8080/",
          "height": 52
        },
        "outputId": "889ee0f3-7c91-4877-ba39-f84fddfa219b"
      },
      "source": [
        "#モデル受け渡しのためのデータの形式変更\n",
        "a1 = np.transpose(a1)\n",
        "print(np.shape(a1))\n",
        "\n",
        "a2 = np.transpose(a2)\n",
        "print(np.shape(a2))\n"
      ],
      "execution_count": 12,
      "outputs": [
        {
          "output_type": "stream",
          "text": [
            "(128, 2832)\n",
            "(128, 2832)\n"
          ],
          "name": "stdout"
        }
      ]
    },
    {
      "cell_type": "code",
      "metadata": {
        "id": "G9xg7zI3WZ3G",
        "colab_type": "code",
        "colab": {}
      },
      "source": [
        "dataset = [a1,a2]"
      ],
      "execution_count": 13,
      "outputs": []
    },
    {
      "cell_type": "code",
      "metadata": {
        "id": "5OcfBuo1WcQ5",
        "colab_type": "code",
        "colab": {}
      },
      "source": [
        "#音の強さを正規化\n",
        "max_velosity = 90\n",
        "dataset2 = []\n",
        "for a in dataset:\n",
        "  a = a / max_velosity #音の強さを正規化\n",
        "  dataset2.append(a)"
      ],
      "execution_count": 14,
      "outputs": []
    },
    {
      "cell_type": "code",
      "metadata": {
        "id": "sSdtQZfGCNc3",
        "colab_type": "code",
        "colab": {}
      },
      "source": [
        "# 曲[0]（渡月橋）のピアノロールデータ可視化\n",
        "y = dataset2[0]\n",
        "print(np.shape(aa))\n",
        "mat = aa\n",
        "\n",
        "sns.heatmap(mat)"
      ],
      "execution_count": null,
      "outputs": []
    },
    {
      "cell_type": "code",
      "metadata": {
        "id": "Nd7uA6ww4OOJ",
        "colab_type": "code",
        "colab": {}
      },
      "source": [
        "# 曲[1]（歌うたいのバラッド）のピアノロールデータ可視化\n",
        "\n",
        "y = dataset2[1]\n",
        "print(np.shape(aa))\n",
        "mat = y\n",
        "\n",
        "sns.heatmap(mat)"
      ],
      "execution_count": null,
      "outputs": []
    },
    {
      "cell_type": "code",
      "metadata": {
        "id": "5ibZQYJHhPVz",
        "colab_type": "code",
        "colab": {
          "base_uri": "https://localhost:8080/",
          "height": 34
        },
        "outputId": "74e5f238-2191-4e3c-bedb-86b7650cda8f"
      },
      "source": [
        "d = dataset2[0]\n",
        "np.shape(d)"
      ],
      "execution_count": 15,
      "outputs": [
        {
          "output_type": "execute_result",
          "data": {
            "text/plain": [
              "(128, 2832)"
            ]
          },
          "metadata": {
            "tags": []
          },
          "execution_count": 15
        }
      ]
    },
    {
      "cell_type": "code",
      "metadata": {
        "id": "yTB1dlUs4xqm",
        "colab_type": "code",
        "colab": {}
      },
      "source": [
        "#入力データをmixするモードでなければ教師データとほとんど同じものが出力される\n",
        "#mixモードでは、曲[0]と[1]を任意の比率で学習したものが出力される\n",
        "input_size = time_length \n",
        "hidden_size = 50\n",
        "class VAE(nn.Module):\n",
        "  def __init__(self):\n",
        "    super(VAE, self).__init__()\n",
        "    self.linear1 = nn.Linear(time_length, 708)\n",
        "    self.linear2 = nn.Linear(708, 200)\n",
        "    self.meanL = nn.Linear(200, hidden_size)\n",
        "    self.varL = nn.Linear(200, hidden_size)\n",
        "    self.softplus = nn.Softplus()\n",
        "    self.relu = nn.ReLU()\n",
        "    self.sigmoid = nn.Sigmoid()\n",
        "    self.linear3 = nn.Linear(hidden_size, 200)\n",
        "    self.linear4 = nn.Linear(200, 708)\n",
        "    self.linear5 = nn.Linear(708, time_length)\n",
        "\n",
        "  def forward(self, x, zzz, zz):\n",
        "    xx = self.relu(self.linear1(x))\n",
        "    xx = self.relu(self.linear2(xx))\n",
        "    mean = self.meanL(xx)\n",
        "    var = self.softplus(self.varL(xx))\n",
        "    epsilon = torch.randn(mean.size())\n",
        "    epsilon = epsilon.cuda()\n",
        "    z = mean + torch.sqrt(var) * epsilon\n",
        "\n",
        "    if zz == 1: #音源をmixする\n",
        "      z = zzz\n",
        "      print(\"mix\")\n",
        "    y = self.relu(self.linear3(z))\n",
        "    y = self.relu(self.linear4(y))\n",
        "    y = self.sigmoid(self.linear5(y))\n",
        "    mean = mean.view(1, hidden_size)\n",
        "    var = var.view(1, hidden_size)\n",
        "    x = x.view(1, time_length)\n",
        "    y = y.view(1, time_length)\n",
        "\n",
        "    return mean, var, x, y\n",
        "vae = []\n",
        "for i in range(128):\n",
        "  vAE = VAE()\n",
        "  vAE = vAE.cuda()\n",
        "  vae.append(vAE)"
      ],
      "execution_count": 16,
      "outputs": []
    },
    {
      "cell_type": "code",
      "metadata": {
        "id": "0DreDDRDdorG",
        "colab_type": "code",
        "colab": {}
      },
      "source": [
        "class VAELoss(nn.Module):\n",
        "  def __init__(self):\n",
        "    super(VAELoss, self).__init__()\n",
        "  \n",
        "  def forward(self, mean, var, x, y):\n",
        "    delta = 1e-8\n",
        "    \n",
        "    KL = - 0.5 * torch.mean(torch.sum(1 + torch.log(var + delta) - mean**2 - var))\n",
        "    epsilon = torch.randn(mean.size())\n",
        "    epsilon = epsilon.cuda()\n",
        "    z = mean + torch.sqrt(var) * epsilon\n",
        "    reconstruction = torch.mean(torch.sum(x * torch.log(y + delta) + (1 - x) * torch.log(1 - y + delta)))\n",
        "    lower_bound = [-KL, reconstruction]                                      \n",
        "    return -sum(lower_bound)\n",
        "\n",
        "vaeloss = VAELoss()\n",
        "vaeloss = vaeloss.cuda()"
      ],
      "execution_count": 17,
      "outputs": []
    },
    {
      "cell_type": "code",
      "metadata": {
        "id": "zLmZt9kpK3-N",
        "colab_type": "code",
        "colab": {}
      },
      "source": [
        "criterion = VAELoss()\n",
        "import torch.optim as optim\n",
        "lr = 0.001"
      ],
      "execution_count": 18,
      "outputs": []
    },
    {
      "cell_type": "code",
      "metadata": {
        "id": "VgzslofJNzRv",
        "colab_type": "code",
        "colab": {}
      },
      "source": [
        "import torch.optim as optim\n",
        "lr = 0.0001\n",
        "optimizers = []\n",
        "for i in range(128):\n",
        "  VAE = vae[i]\n",
        "  optimizer = optim.Adam(VAE.parameters(), lr=lr)\n",
        "  optimizers.append(optimizer)"
      ],
      "execution_count": 19,
      "outputs": []
    },
    {
      "cell_type": "code",
      "metadata": {
        "id": "ZrLGx_tKdQyh",
        "colab_type": "code",
        "colab": {}
      },
      "source": [
        "def vaeTrain(xx, i):\n",
        "  x = xx.view(1, time_length)\n",
        "  VAE = vae[i]\n",
        "  VAE.train()\n",
        "  zzz = torch.rand(1, 50)\n",
        "  zzz = zzz.cuda()\n",
        "  zz = 0\n",
        "  mean, var, x, y = VAE(x, zzz, zz)\n",
        "  loss = criterion(mean[0], var[0], x[0], y[0])\n",
        "  optimizer = optimizers[i]\n",
        "  loss.backward()\n",
        "  optimizer.step()\n",
        "  return loss.item(), y, mean, var"
      ],
      "execution_count": 20,
      "outputs": []
    },
    {
      "cell_type": "code",
      "metadata": {
        "id": "5K7xoGYN_FNM",
        "colab_type": "code",
        "colab": {}
      },
      "source": [
        "device = torch.device('cpu')\n",
        "tanh = nn.Tanh()\n",
        "\n",
        "def train():\n",
        "\n",
        "  a = 0 #曲[0]を入力\n",
        "  print(a)\n",
        "  \n",
        "  train_data = torch.tensor(dataset2[a])\n",
        "  train_data = train_data.cuda()\n",
        "  train_data = train_data.float()\n",
        "\n",
        "  loss = 0\n",
        "  for i in range(128):\n",
        "    xx = train_data[i]\n",
        "    if i == 0:\n",
        "      loss_i, y, mean, var = vaeTrain(xx, i)\n",
        "    else:\n",
        "      loss_ii, y1, mean1, var1 = vaeTrain(xx, i)\n",
        "      y = torch.cat((y, y1), 0)\n",
        "      mean = torch.cat((mean, mean1), 0)\n",
        "      var = torch.cat((var, var1), 0)\n",
        "    loss += loss_i\n",
        "  \n",
        "  loss = loss / 128\n",
        "  \n",
        "  y = y.to(device)\n",
        "  y = y.detach().clone().numpy()\n",
        "\n",
        "  return loss, y, mean, var"
      ],
      "execution_count": 23,
      "outputs": []
    },
    {
      "cell_type": "code",
      "metadata": {
        "id": "hIr4EN5_AOr9",
        "colab_type": "code",
        "colab": {}
      },
      "source": [
        "# train 呼び出しパート\n",
        "epochs = 700\n",
        "train_history = []\n",
        "\n",
        "for epoch in range(epochs):\n",
        "  \n",
        "  train_loss,  y, mean, var = train()\n",
        "  train_history.append(train_loss)\n",
        "\n",
        "  print(f'[Epoch {epoch+1:3d}/{epochs:3d}]' \\\n",
        "          f' train_loss: {train_loss:.5f}')\n",
        "  print(np.shape(y))\n",
        "  print(mean.size(), var.size())"
      ],
      "execution_count": null,
      "outputs": []
    },
    {
      "cell_type": "code",
      "metadata": {
        "id": "9zHyZmWFCMLb",
        "colab_type": "code",
        "colab": {
          "base_uri": "https://localhost:8080/",
          "height": 631
        },
        "outputId": "f2157bdb-9a21-4dd6-dc9d-366456b9add7"
      },
      "source": [
        "!nvidia-smi\n",
        "\n",
        "plt.plot(train_history, label='loss_train', marker='None')\n",
        "plt.grid()\n",
        "plt.xlabel('epochs')\n",
        "plt.ylabel('loss')\n",
        "plt.legend()\n",
        "plt.show()"
      ],
      "execution_count": null,
      "outputs": [
        {
          "output_type": "stream",
          "text": [
            "Tue Jul 28 09:47:22 2020       \n",
            "+-----------------------------------------------------------------------------+\n",
            "| NVIDIA-SMI 450.51.05    Driver Version: 418.67       CUDA Version: 10.1     |\n",
            "|-------------------------------+----------------------+----------------------+\n",
            "| GPU  Name        Persistence-M| Bus-Id        Disp.A | Volatile Uncorr. ECC |\n",
            "| Fan  Temp  Perf  Pwr:Usage/Cap|         Memory-Usage | GPU-Util  Compute M. |\n",
            "|                               |                      |               MIG M. |\n",
            "|===============================+======================+======================|\n",
            "|   0  Tesla P100-PCIE...  Off  | 00000000:00:04.0 Off |                    0 |\n",
            "| N/A   41C    P0    33W / 250W |  11687MiB / 16280MiB |      0%      Default |\n",
            "|                               |                      |                 ERR! |\n",
            "+-------------------------------+----------------------+----------------------+\n",
            "                                                                               \n",
            "+-----------------------------------------------------------------------------+\n",
            "| Processes:                                                                  |\n",
            "|  GPU   GI   CI        PID   Type   Process name                  GPU Memory |\n",
            "|        ID   ID                                                   Usage      |\n",
            "|=============================================================================|\n",
            "|  No running processes found                                                 |\n",
            "+-----------------------------------------------------------------------------+\n"
          ],
          "name": "stdout"
        },
        {
          "output_type": "display_data",
          "data": {
            "image/png": "[encoded data removed]",
            "text/plain": [
              "<Figure size 432x288 with 1 Axes>"
            ]
          },
          "metadata": {
            "tags": [],
            "needs_background": "light"
          }
        }
      ]
    },
    {
      "cell_type": "code",
      "metadata": {
        "id": "GmAuyPtd4Pzv",
        "colab_type": "code",
        "colab": {}
      },
      "source": [
        "#以下、mixモードについて\n",
        "def vae_mixtune(xx, i, zzz, zz):\n",
        "  x = xx.view(1, time_length)\n",
        "  VAE = vae[i]\n",
        "  VAE.eval()\n",
        "  #print(x.size())\n",
        "  mean, var, x, y = VAE(x, zzz, zz)\n",
        "  loss = criterion(mean[0], var[0], x[0], y[0])\n",
        "  \n",
        "  return loss.item(), y, mean, var"
      ],
      "execution_count": null,
      "outputs": []
    },
    {
      "cell_type": "code",
      "metadata": {
        "id": "L8Nwtkep44kI",
        "colab_type": "code",
        "colab": {}
      },
      "source": [
        "def mixtune(alpha):\n",
        "  zz = 1\n",
        "  zzz = torch.rand(1, 50)\n",
        "  zzz = zzz.cuda()\n",
        "  a = 0\n",
        "  print(a)\n",
        "  train_data = torch.tensor(dataset2[a])\n",
        "  train_data = train_data.cuda()\n",
        "  train_data = train_data.float()\n",
        "\n",
        "  loss = 0\n",
        "  for i in range(128):\n",
        "    xx = train_data[i]\n",
        "    if i == 0:\n",
        "      loss_i, y6, mean6, var6 = vae_mixtune(xx, i, zzz, zz)\n",
        "    else:\n",
        "      loss_ii, y1, mean1, var1 = vae_mixtune(xx, i, zzz, zz)\n",
        "      y6 = torch.cat((y6, y1), 0)\n",
        "      mean6 = torch.cat((mean6, mean1), 0)\n",
        "      var6 = torch.cat((var6, var1), 0)\n",
        "    loss += loss_i\n",
        "    \n",
        "\n",
        "    a = 1\n",
        "  print(a)\n",
        "  train_data = torch.tensor(dataset2[a])\n",
        "  train_data = train_data.cuda()\n",
        "  train_data = train_data.float()\n",
        "\n",
        "  loss = 0\n",
        "  for i in range(128):\n",
        "    xx = train_data[i]\n",
        "    if i == 0:\n",
        "      loss_i, y7, mean7, var7 = vae_mixtune(xx, i, zzz, zz)\n",
        "    else:\n",
        "      loss_ii, y1, mean1, var1 = vae_mixtune(xx, i, zzz, zz)\n",
        "      y7 = torch.cat((y7, y1), 0)\n",
        "      mean7 = torch.cat((mean7, mean1), 0)\n",
        "      var7 = torch.cat((var7, var1), 0)\n",
        "    loss += loss_i\n",
        "  \n",
        "  y6 = y6.to(device)\n",
        "  y6 = y6.detach().clone().numpy()\n",
        "  y7 = y7.to(device)\n",
        "  y7 = y7.detach().clone().numpy()\n",
        "\n",
        "  #mixモードのフラグを立てている\n",
        "  zz = 1\n",
        "  epsilon = torch.randn(mean7.size())\n",
        "  epsilon = epsilon.cuda()\n",
        "\n",
        "  z6 = mean6 + torch.sqrt(var6) * epsilon\n",
        "  z7 = mean7 + torch.sqrt(var7) * epsilon\n",
        "\n",
        "  zzz = alpha * z6 + (1 - alpha) * z7\n",
        "  zzz = zzz.cuda()\n",
        "\n",
        "\n",
        "  for i in range(128):\n",
        "    xx = train_data[i]\n",
        "    \n",
        "    if i == 0:\n",
        "      loss_i, y8, mean8, var8 = vae_mixtune(xx, i, zzz[i], zz)\n",
        "    else:\n",
        "      loss_ii, y1, mean1, var1 = vae_mixtune(xx, i, zzz[i], zz)\n",
        "      y8 = torch.cat((y8, y1), 0)\n",
        "      mean8 = torch.cat((mean8, mean1), 0)\n",
        "      var8 = torch.cat((var8, var1), 0)\n",
        "\n",
        "\n",
        "  return y8"
      ],
      "execution_count": null,
      "outputs": []
    },
    {
      "cell_type": "code",
      "metadata": {
        "id": "QY2z3Qda81GG",
        "colab_type": "code",
        "colab": {}
      },
      "source": [
        "# αを設定した後でトレーニング呼び出し部を実行する必要がある"
      ],
      "execution_count": null,
      "outputs": []
    },
    {
      "cell_type": "code",
      "metadata": {
        "id": "7PBH4s3n9RK-",
        "colab_type": "code",
        "colab": {}
      },
      "source": [
        "y = mixtune(0.0) #α = 0.0:曲[0]が100%になる。\n",
        "y = y.to(device)\n",
        "y = y.detach().clone().numpy()\n",
        "mat = y\n",
        "\n",
        "sns.heatmap(mat)"
      ],
      "execution_count": null,
      "outputs": []
    },
    {
      "cell_type": "code",
      "metadata": {
        "id": "YSCPrs6c9kxP",
        "colab_type": "code",
        "colab": {}
      },
      "source": [
        "y = mixtune(1.0) #α=1.0:曲[1]が100%になる。\n",
        "y = y.to(device)\n",
        "y = y.detach().clone().numpy()\n",
        "mat = y\n",
        "\n",
        "sns.heatmap(mat)"
      ],
      "execution_count": null,
      "outputs": []
    },
    {
      "cell_type": "code",
      "metadata": {
        "id": "IPrpx19l9xyj",
        "colab_type": "code",
        "colab": {}
      },
      "source": [
        "y = mixtune(0.5)　#α = 0.5 :曲[0],曲[1]が5:5で混ざり合う\n",
        "y = y.to(device)\n",
        "y = y.detach().clone().numpy()\n",
        "mat = y\n",
        "\n",
        "sns.heatmap(mat)"
      ],
      "execution_count": null,
      "outputs": []
    },
    {
      "cell_type": "code",
      "metadata": {
        "id": "EWMWeOYF9wgU",
        "colab_type": "code",
        "colab": {}
      },
      "source": [
        "y = mixtune(0.1)　#α = 0.1:曲[0],曲[1]が9:1で混ざり合う\n",
        "y = y.to(device)\n",
        "y = y.detach().clone().numpy()\n",
        "mat = y\n",
        "\n",
        "sns.heatmap(mat)"
      ],
      "execution_count": null,
      "outputs": []
    },
    {
      "cell_type": "code",
      "metadata": {
        "colab_type": "code",
        "id": "-WWILwA8Pm2F",
        "colab": {}
      },
      "source": [
        "# train 呼び出しパート\n",
        "epochs = 700\n",
        "train_history = []\n",
        "\n",
        "for epoch in range(epochs):\n",
        "  \n",
        "  train_loss,  y, mean, var = train()\n",
        "  train_history.append(train_loss)\n",
        "\n",
        "  print(f'[Epoch {epoch+1:3d}/{epochs:3d}]' \\\n",
        "          f' train_loss: {train_loss:.5f}')\n",
        "  print(np.shape(y))\n",
        "  print(mean.size(), var.size())"
      ],
      "execution_count": null,
      "outputs": []
    },
    {
      "cell_type": "code",
      "metadata": {
        "id": "r4up2srxjw73",
        "colab_type": "code",
        "colab": {
          "base_uri": "https://localhost:8080/",
          "height": 34
        },
        "outputId": "d509c9c5-a2b3-4b59-e849-a7b921f6cf23"
      },
      "source": [
        "# 以下、出力をmidi形式で作成\n",
        "y = y * max_velosity\n",
        "outputdata = np.transpose(y)\n",
        "multi = pypianoroll.Multitrack()\n",
        "track = Track(pianoroll=outputdata, program=0, is_drum=False,name='my awesome piano')\n",
        "print(track.pianoroll.ndim)\n",
        "\n",
        "another_track = track.copy()\n",
        "multitrack = Multitrack(tracks=[track, another_track], tempo=120.0)\n",
        "multitrack.write(\"create.mid\")"
      ],
      "execution_count": null,
      "outputs": [
        {
          "output_type": "stream",
          "text": [
            "2\n"
          ],
          "name": "stdout"
        }
      ]
    }
  ]
}